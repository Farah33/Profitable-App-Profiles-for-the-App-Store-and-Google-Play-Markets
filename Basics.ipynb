{
 "cells": [
  {
   "cell_type": "markdown",
   "metadata": {},
   "source": [
    "# Analyzing Mobile App Data Project Summary"
   ]
  },
  {
   "cell_type": "markdown",
   "metadata": {},
   "source": [
    "In this project, our focus is on analyzing mobile app data for a company that specializes in developing Android and iOS applications. These apps are distributed through two prominent platforms, Google Play and the App Store, and generate revenue through in-app advertisements. The success of these apps is directly tied to user engagement, as higher engagement translates into increased revenue for the company.\n",
    "\n",
    "Our main objective is to conduct a comprehensive analysis of the available data to identify the key factors that contribute to app popularity among users. By examining patterns and trends within the data, we will gain valuable insights that can help the company's developers enhance their apps and attract a larger user base. This analysis will provide us with practical experience in real-world data analysis techniques and strengthen our ability to effectively communicate our findings.\n",
    "\n",
    "Completing this project will not only allow us to gain hands-on experience in analyzing mobile app data, but it will also enable us to showcase our skills as software engineers in interpreting and leveraging data to drive business decision-making. By providing valuable insights and recommendations to the company, we will demonstrate our ability to make a tangible impact on app development strategies and contribute to the company's success in the competitive mobile app market.\n"
   ]
  },
  {
   "cell_type": "markdown",
   "metadata": {},
   "source": [
    "# Opening and Exploring the Data\n"
   ]
  },
  {
   "cell_type": "markdown",
   "metadata": {},
   "source": [
    "The objective of this section is to help developers understand the types of apps that attract more users on Google Play and the App Store. To achieve this, we will collect and analyze data about mobile apps available on both platforms. We have two existing datasets that are suitable for our analysis: Dataset 1, which contains information on around 10,000 Android apps from Google Play (collected in August 2018), and Dataset 2, which includes data on approximately 7,000 iOS apps from the App Store (collected in July 2017). By examining these datasets, we aim to gain insights into the characteristics and trends of successful apps on both platforms, without the need for additional data collection.\n",
    "\n",
    "Our objective is to understand the types of apps that attract more users on Google Play and the App Store. Instead of collecting new data, we will analyze existing datasets as a representative sample. Using the explore_data() function, we can examine the datasets' structure and content by printing rows in a readable format. It's crucial to exclude any header rows in the datasets to ensure accurate row counts. \n",
    "\n",
    "To sum up, our objective is to analyze two datasets that provide information about Android and iOS apps. By using the explore_data() function, we can examine the dataset rows and understand their structure. This analysis allows us to gain insights into the trends of apps on Google Play and the App Store, without the need for extensive data collection efforts."
   ]
  },
  {
   "cell_type": "code",
   "execution_count": 1,
   "metadata": {},
   "outputs": [],
   "source": [
    "from csv import reader\n",
    "\n",
    "opened_file = open('googleplaystore.csv', encoding='utf8')  # Open the file\n",
    "read_file = reader(opened_file)  # Read the file\n",
    "android = list(read_file)  # Convert the file into a list of lists\n",
    "header_android = android[0]  # Extract the header row\n",
    "android = android[1:]  # Extract the data rows\n",
    "\n",
    "# Open the App Store dataset\n",
    "opened_file = open('AppleStore.csv', encoding='utf8')  # Open the file\n",
    "read_file = reader(opened_file)  # Read the file\n",
    "ios = list(read_file)  # Convert the file into a list of lists\n",
    "header_ios = ios[0]  # Extract the header row\n",
    "ios_data = ios[1:]  # Extract the data rows\n",
    "\n",
    "\n"
   ]
  },
  {
   "cell_type": "markdown",
   "metadata": {},
   "source": [
    "The given code performs the following operations for opening and reading two CSV files, namely 'googleplaystore.csv' and 'AppleStore.csv'. It utilizes the CSV reader functionality to convert the data from each file into a list of lists. The first list within the resulting list represents the header row, containing the column names, while the remaining lists represent the data rows. The converted data for the Android dataset is stored in the 'android' variable, while the iOS dataset is stored in the 'ios' variable. Additionally, the code extracts the header row from each dataset and assigns it to 'header_android' and 'header_ios', respectively. The actual data rows for Android and iOS are assigned to 'android_data' and 'ios_data'.\n",
    "\n"
   ]
  },
  {
   "cell_type": "code",
   "execution_count": 2,
   "metadata": {},
   "outputs": [
    {
     "name": "stdout",
     "output_type": "stream",
     "text": [
      "Google Play dataset:\n",
      "['Photo Editor & Candy Camera & Grid & ScrapBook', 'ART_AND_DESIGN', '4.1', '159', '19M', '10,000+', 'Free', '0', 'Everyone', 'Art & Design', 'January 7, 2018', '1.0.0', '4.0.3 and up']\n",
      "\n",
      "\n",
      "['Coloring book moana', 'ART_AND_DESIGN', '3.9', '967', '14M', '500,000+', 'Free', '0', 'Everyone', 'Art & Design;Pretend Play', 'January 15, 2018', '2.0.0', '4.0.3 and up']\n",
      "\n",
      "\n",
      "['U Launcher Lite – FREE Live Cool Themes, Hide Apps', 'ART_AND_DESIGN', '4.7', '87510', '8.7M', '5,000,000+', 'Free', '0', 'Everyone', 'Art & Design', 'August 1, 2018', '1.2.4', '4.0.3 and up']\n",
      "\n",
      "\n",
      "['Sketch - Draw & Paint', 'ART_AND_DESIGN', '4.5', '215644', '25M', '50,000,000+', 'Free', '0', 'Teen', 'Art & Design', 'June 8, 2018', 'Varies with device', '4.2 and up']\n",
      "\n",
      "\n",
      "['Pixel Draw - Number Art Coloring Book', 'ART_AND_DESIGN', '4.3', '967', '2.8M', '100,000+', 'Free', '0', 'Everyone', 'Art & Design;Creativity', 'June 20, 2018', '1.1', '4.4 and up']\n",
      "\n",
      "\n",
      "Number of rows: 10841\n",
      "Number of columns: 13\n",
      "App Store dataset:\n",
      "['284882215', 'Facebook', '389879808', 'USD', '0.0', '2974676', '212', '3.5', '3.5', '95.0', '4+', 'Social Networking', '37', '1', '29', '1']\n",
      "\n",
      "\n",
      "['389801252', 'Instagram', '113954816', 'USD', '0.0', '2161558', '1289', '4.5', '4.0', '10.23', '12+', 'Photo & Video', '37', '0', '29', '1']\n",
      "\n",
      "\n",
      "['529479190', 'Clash of Clans', '116476928', 'USD', '0.0', '2130805', '579', '4.5', '4.5', '9.24.12', '9+', 'Games', '38', '5', '18', '1']\n",
      "\n",
      "\n",
      "['420009108', 'Temple Run', '65921024', 'USD', '0.0', '1724546', '3842', '4.5', '4.0', '1.6.2', '9+', 'Games', '40', '5', '1', '1']\n",
      "\n",
      "\n",
      "['284035177', 'Pandora - Music & Radio', '130242560', 'USD', '0.0', '1126879', '3594', '4.0', '4.5', '8.4.1', '12+', 'Music', '37', '4', '1', '1']\n",
      "\n",
      "\n",
      "Number of rows: 7197\n",
      "Number of columns: 16\n",
      "Google Play columns: ['App', 'Category', 'Rating', 'Reviews', 'Size', 'Installs', 'Type', 'Price', 'Content Rating', 'Genres', 'Last Updated', 'Current Ver', 'Android Ver']\n",
      "App Store columns: 0 5 ['id', 'track_name', 'size_bytes', 'currency', 'price', 'rating_count_tot', 'rating_count_ver', 'user_rating', 'user_rating_ver', 'ver', 'cont_rating', 'prime_genre', 'sup_devices.num', 'ipadSc_urls.num', 'lang.num', 'vpp_lic']\n"
     ]
    }
   ],
   "source": [
    "def explore_data(dataset, start, end, rows_and_columns=False):\n",
    "    dataset_slice = dataset[start:end]    \n",
    "    for row in dataset_slice:\n",
    "        print(row)\n",
    "        print('\\n') # adds a new (empty) line after each row\n",
    "\n",
    "    if rows_and_columns:\n",
    "        print('Number of rows:', len(dataset))\n",
    "        print('Number of columns:', len(dataset[0]))\n",
    "\n",
    "\n",
    "print('Google Play dataset:')\n",
    "\n",
    "# Call the explore_data() function for the Google Play dataset\n",
    "explore_data(android, 0, 5, True) \n",
    "\n",
    "print('App Store dataset:')\n",
    "\n",
    "# Call the explore_data() function for the App Store dataset\n",
    "explore_data(ios_data, 0, 5, True)  \n",
    "\n",
    "# Print column names for each dataset\n",
    "# Print the column names for the Google Play dataset\n",
    "print('Google Play columns:', header_android)\n",
    "\n",
    "# Print the column names for the App Store dataset\n",
    "print('App Store columns:',0, 5, header_ios)  \n"
   ]
  },
  {
   "cell_type": "markdown",
   "metadata": {},
   "source": [
    "The code introduces a function called 'explore_data()' -> This function is designed to examine and understand a dataset in a more readable format -> It enables us to view the rows and columns of the dataset -> Additionally, it provides an option to display the number of rows and columns in the dataset -> Furthermore, the function helps us identify the indices of the rows and columns for further analysis and exploration of the dataset."
   ]
  },
  {
   "cell_type": "markdown",
   "metadata": {},
   "source": [
    "# Deleting Wrong Data"
   ]
  },
  {
   "cell_type": "code",
   "execution_count": 3,
   "metadata": {},
   "outputs": [
    {
     "name": "stdout",
     "output_type": "stream",
     "text": [
      "['Life Made WI-Fi Touchscreen Photo Frame', '1.9', '19', '3.0M', '1,000+', 'Free', '0', 'Everyone', '', 'February 11, 2018', '1.0.19', '4.0 and up']\n",
      "['App', 'Category', 'Rating', 'Reviews', 'Size', 'Installs', 'Type', 'Price', 'Content Rating', 'Genres', 'Last Updated', 'Current Ver', 'Android Ver']\n",
      "10841\n",
      "10840\n"
     ]
    }
   ],
   "source": [
    "print(android[10472])\n",
    "print(header_android)\n",
    "print(len(android))\n",
    "del android[10472]\n",
    "print(len(android))"
   ]
  },
  {
   "cell_type": "markdown",
   "metadata": {},
   "source": [
    "The code executes a series of actions in sequencial manners: First, it prints the row at index 10472 from the 'android' dataset -> Next, it prints the header of the 'android' dataset -> After that, it displays the number of rows present in the 'android' dataset -> Then, it deletes the row at index 10472 from the 'android' dataset -> Finally, it prints the updated number of rows in the 'android' dataset. These actions allow for the examination and modification of the 'android' dataset."
   ]
  },
  {
   "cell_type": "markdown",
   "metadata": {},
   "source": [
    "# Removing Duplicate Entries:"
   ]
  },
  {
   "cell_type": "markdown",
   "metadata": {},
   "source": [
    "# Part One"
   ]
  },
  {
   "cell_type": "markdown",
   "metadata": {},
   "source": [
    "In the process of cleaning our data, we identified that there are duplicate entries for certain apps in the Google Play dataset, with over 1,181 instances of apps appearing more than once. To resolve this issue, we will eliminate the duplicates and retain only one entry per app. By examining the rows associated with the Instagram app, we observed variations in the number of reviews, indicating different data collection times. To establish a criterion for removing duplicates, we will select the entry with the highest number of reviews, ensuring that we avoid counting apps multiple times. This approach prioritizes recent and reliable data, upholds data integrity, and facilitates informed decision-making based on accurate information."
   ]
  },
  {
   "cell_type": "code",
   "execution_count": 4,
   "metadata": {},
   "outputs": [
    {
     "name": "stdout",
     "output_type": "stream",
     "text": [
      "Number of duplicate apps: 1181\n",
      "\n",
      "\n",
      "Number of Unique apps: 9659\n"
     ]
    }
   ],
   "source": [
    "unique_apps= []\n",
    "duplicate_apps = []\n",
    "\n",
    "for app in android:\n",
    "    name = app[0]\n",
    "    if name in unique_apps:\n",
    "        duplicate_apps.append(name)\n",
    "    else:\n",
    "        unique_apps.append(name)\n",
    "print('Number of duplicate apps:', len(duplicate_apps))\n",
    "print('\\n')\n",
    "print('Number of Unique apps:', len(unique_apps))"
   ]
  },
  {
   "cell_type": "markdown",
   "metadata": {},
   "source": [
    "The code has two lists named 'unique_apps' and 'duplicate_apps' are initialized. The code then proceeds to iterate through each app in the 'android' dataset.--> For each app, the code extracts its name and checks if it is already present in the 'unique_apps' list.--> If the name is found in 'unique_apps', indicating that it is a duplicate app, the name is added to the 'duplicate_apps' list.--> On the other hand, if the name is not present in 'unique_apps', it is considered a unique app and is added to the 'unique_apps' list.\n",
    "After iterating through all the apps, the code prints the number of duplicate apps by displaying the length of the 'duplicate_apps' list, followed by a new line.\n",
    "Finally, the code prints the number of unique apps by displaying the length of the 'unique_apps' list.\n",
    "By executing this code, we can identify and count the number of duplicate and unique app names present in the 'android' dataset."
   ]
  },
  {
   "cell_type": "markdown",
   "metadata": {},
   "source": [
    "# Part Two"
   ]
  },
  {
   "cell_type": "markdown",
   "metadata": {},
   "source": [
    "To remove duplicate entries from the Google Play dataset, we took the following steps. First, we created a dictionary where each unique app name was a key, and the corresponding value was the highest number of reviews for that app. This helped us identify the most reliable entry for each app. Then, using this dictionary, we constructed a new dataset that included only one entry per app, specifically the entry with the highest number of reviews. By doing so, we eliminated duplicate rows and ensured that our dataset was clean and accurate for further analysis.\n",
    "\n",
    "\n",
    "\n",
    "\n"
   ]
  },
  {
   "cell_type": "code",
   "execution_count": 5,
   "metadata": {},
   "outputs": [
    {
     "name": "stdout",
     "output_type": "stream",
     "text": [
      "Expected length: 9659\n",
      "Actual length: 9659\n",
      "['App', 'Category', 'Rating', 'Reviews', 'Size', 'Installs', 'Type', 'Price', 'Content Rating', 'Genres', 'Last Updated', 'Current Ver', 'Android Ver']\n"
     ]
    }
   ],
   "source": [
    "reviews_max = {}  # Initialize an empty dictionary to store the maximum reviews for each app\n",
    "\n",
    "for app in android:  # Loop through each app in the android dataset\n",
    "    name = app[0]  # Extract the app name\n",
    "    n_reviews = float(app[3])  # Extract the number of reviews and convert it to a float\n",
    "    \n",
    "    if name in reviews_max and reviews_max[name] < n_reviews:\n",
    "        # If the app name is already in reviews_max and the current number of reviews is greater than the existing value,\n",
    "        # update the maximum reviews for that app in reviews_max\n",
    "        reviews_max[name] = n_reviews\n",
    "    elif name not in reviews_max:\n",
    "        # If the app name is not in reviews_max, add a new entry with the app name as the key and the number of reviews as the value\n",
    "        reviews_max[name] = n_reviews\n",
    "\n",
    "print('Expected length:', len(android) - 1181)  # Print the expected length of the cleaned dataset (original length - number of duplicates)\n",
    "print('Actual length:', len(reviews_max))  # Print the actual length of the reviews_max dictionary\n",
    "print(header_android)  # Print the header row of the android dataset\n"
   ]
  },
  {
   "cell_type": "markdown",
   "metadata": {},
   "source": [
    "The code initializes an empty dictionary called reviews_max. It then loops through the android dataset and for each app, it extracts the app name and the number of reviews. It checks if the app name is already present in reviews_max and if the number of reviews is greater than the existing value in the dictionary. If so, it updates the value in reviews_max with the higher number of reviews. If the app name is not in reviews_max, it adds a new entry to the dictionary. After the loop, it prints the expected length of the cleaned dataset by subtracting the number of duplicates (1181) from the original length of the android dataset. It also prints the actual length of the reviews_max dictionary. Finally, it prints the header row of the android dataset. This code is used to identify the apps with the highest number of reviews, which will be used to remove duplicate entries."
   ]
  },
  {
   "cell_type": "code",
   "execution_count": 6,
   "metadata": {},
   "outputs": [
    {
     "name": "stdout",
     "output_type": "stream",
     "text": [
      "['Photo Editor & Candy Camera & Grid & ScrapBook', 'ART_AND_DESIGN', '4.1', '159', '19M', '10,000+', 'Free', '0', 'Everyone', 'Art & Design', 'January 7, 2018', '1.0.0', '4.0.3 and up']\n",
      "\n",
      "\n",
      "['U Launcher Lite – FREE Live Cool Themes, Hide Apps', 'ART_AND_DESIGN', '4.7', '87510', '8.7M', '5,000,000+', 'Free', '0', 'Everyone', 'Art & Design', 'August 1, 2018', '1.2.4', '4.0.3 and up']\n",
      "\n",
      "\n",
      "['Sketch - Draw & Paint', 'ART_AND_DESIGN', '4.5', '215644', '25M', '50,000,000+', 'Free', '0', 'Teen', 'Art & Design', 'June 8, 2018', 'Varies with device', '4.2 and up']\n",
      "\n",
      "\n",
      "Number of rows: 9659\n",
      "Number of columns: 13\n"
     ]
    }
   ],
   "source": [
    "android_clean = []    # Create an empty list to store the cleaned Android dataset\n",
    "already_added = []    # Create an empty list to keep track of already added app names\n",
    "\n",
    "# Iterate through each app in the Android dataset\n",
    "for app in android:\n",
    "    name = app[0]    # Extract the app name\n",
    "    n_reviews = float(app[3])    # Extract the number of reviews and convert it to a float\n",
    "\n",
    "    # Check if the number of reviews is equal to the highest number of reviews for that app and the app name is not already added\n",
    "    if n_reviews == reviews_max[name] and (name not in already_added):\n",
    "        android_clean.append(app)    # Append the app to the cleaned dataset\n",
    "        already_added.append(name)    # Add the app name to the already_added list to avoid duplicates\n",
    "\n",
    "# Display information about the cleaned Android dataset\n",
    "explore_data(android_clean, 0, 3, True)\n"
   ]
  },
  {
   "cell_type": "markdown",
   "metadata": {},
   "source": [
    "The provided code aims to create a cleaned dataset called android_clean by removing duplicate entries from the original Android dataset. It achieves this by iterating through each app in the Android dataset. For each app, it extracts the app name and the number of reviews. Then, it checks if the number of reviews is equal to the highest number of reviews for that particular app (reviews_max[name]). It also checks if the app name has not been added to the already_added list to avoid duplicates. If both conditions are met, the app is considered unique, and it is appended to the android_clean list, while the app name is added to the already_added list. Finally, the explore_data() function is called to display information about the cleaned dataset, including the specified number of rows and the total number of rows."
   ]
  },
  {
   "cell_type": "markdown",
   "metadata": {},
   "source": [
    "# Removing Non-English Apps: \n"
   ]
  },
  {
   "cell_type": "markdown",
   "metadata": {},
   "source": [
    "# Part One\n"
   ]
  },
  {
   "cell_type": "markdown",
   "metadata": {},
   "source": [
    "Duplicate App Removal:\n",
    "\n",
    "Removed duplicate entries from the Google Play dataset.\n",
    "Achieved a cleaned dataset with unique app entries.\n",
    "Non-English App Filtering:\n",
    "\n",
    "Detected non-English apps by checking for characters with ASCII numbers greater than 127.\n",
    "Developed a function to identify non-English characters in app names.\n",
    "Filtered out non-English apps from both the Google Play and App Store datasets.\n",
    "Focus on English Apps:\n",
    "\n",
    "Ensured that the analysis is limited to English apps only.\n",
    "Prepared the datasets for further analysis and insights.\n",
    "These steps helped us clean the data and narrow down our focus to English apps, facilitating more accurate and relevant analysis."
   ]
  },
  {
   "cell_type": "code",
   "execution_count": 11,
   "metadata": {},
   "outputs": [
    {
     "name": "stdout",
     "output_type": "stream",
     "text": [
      "True\n",
      "False\n",
      "False\n",
      "False\n",
      "[True, False, False, False]\n"
     ]
    }
   ],
   "source": [
    "# Define a function to check if a string consists of common English characters\n",
    "def comm_english(string):\n",
    "    for row in string:\n",
    "        if ord(row) > 127:\n",
    "            return False\n",
    "    return True\n",
    "\n",
    "# Test the function on different strings\n",
    "blue = comm_english('Instagram')  # Check if 'Instagram' is English\n",
    "yell = comm_english('爱奇艺PPS -《欢乐颂2》电视剧热播')  # Check if '爱奇艺PPS -《欢乐颂2》电视剧热播' is English\n",
    "gray = comm_english('Docs To Go™ Free Office Suite')  # Check if 'Docs To Go™ Free Office Suite' is English\n",
    "purple = comm_english('Instachat 😜')  # Check if 'Instachat 😜' is English\n",
    "\n",
    "# Print the results\n",
    "print(blue)  # Output: True (English)\n",
    "print(yell)  # Output: False (Non-English)\n",
    "print(gray)  # Output: False (Non-English)\n",
    "print(purple)  # Output: False (Non-English)\n",
    "\n",
    "# Another way to check multiple strings at once\n",
    "app_names = ['Instagram', '爱奇艺PPS -《欢乐颂2》电视剧热播', 'Docs To Go™ Free Office Suite', 'Instachat 😜']\n",
    "\n",
    "# Iterate over the list of app names and store the results in a new list\n",
    "results = []\n",
    "for name in app_names:\n",
    "    result = comm_english(name)\n",
    "    results.append(result)\n",
    "\n",
    "# Print the results for all app names\n",
    "print(results)  # Output: [True, False, False, False] (English, Non-English, Non-English, Non-English)\n"
   ]
  },
  {
   "cell_type": "markdown",
   "metadata": {},
   "source": [
    "The objective of the code is to determine whether a given string consists of common English characters or not. By checking the ASCII values of the characters in the string, the code helps identify if the string contains any non-English characters. The function comm_english and the subsequent code execution aim to differentiate between English and non-English strings and provide a way to filter out non-English content in further data analysis or processing tasks.\n",
    "\n",
    "\n",
    "\n",
    "The code defines a function called comm_english that checks whether a given string consists of common English characters or not. It iterates through each character in the string, checks its ASCII value using the ord() function, and returns False if any character has an ASCII value greater than 127, indicating a non-English character. The function returns True if all characters have ASCII values within the common English range. The code then calls this function with different strings and prints the results. It also demonstrates an alternative approach by creating a list of app names and using a loop to check their English status, storing the results in a list and printing them."
   ]
  },
  {
   "cell_type": "markdown",
   "metadata": {},
   "source": [
    "# Part Two"
   ]
  },
  {
   "cell_type": "markdown",
   "metadata": {},
   "source": [
    "In the previous step, we encountered an issue with our function that detects non-English app names. To address this, we revised the function to allow for up to three non-ASCII characters in an English app name. This modification aims to minimize the loss of useful data while still effectively filtering out non-English apps. In the upcoming steps, we will utilize this updated function to filter out the non-English apps from our datasets."
   ]
  },
  {
   "cell_type": "code",
   "execution_count": 12,
   "metadata": {},
   "outputs": [
    {
     "name": "stdout",
     "output_type": "stream",
     "text": [
      "True\n",
      "True\n"
     ]
    }
   ],
   "source": [
    "# Define a function to check if a string is English or non-English\n",
    "def comm_english(string):\n",
    "    # Initialize a counter for non-ASCII characters\n",
    "    non_ascii = 0\n",
    "    \n",
    "    # Loop through each character in the string\n",
    "    for row in string:\n",
    "        # Check if the ASCII value of the character is greater than 127\n",
    "        if ord(row) > 127:\n",
    "            # If it is, increment the counter by 1\n",
    "            non_ascii += 1\n",
    "    \n",
    "    # Check the count of non-ASCII characters\n",
    "    if non_ascii > 3:\n",
    "        # If the count is greater than 3, consider the string as non-English and return False\n",
    "        return False\n",
    "    else:\n",
    "        # If the count is 3 or less, consider the string as English and return True\n",
    "        return True\n",
    "\n",
    "# Check the English/non-English status of the first app name\n",
    "pure = comm_english('Docs To Go™ Free Office Suite')\n",
    "\n",
    "# Check the English/non-English status of the second app name\n",
    "girl = comm_english('Instachat 😜')\n",
    "\n",
    "# Print the English/non-English status of the first app name\n",
    "print(pure)\n",
    "\n",
    "# Print the English/non-English status of the second app name\n",
    "print(girl)\n"
   ]
  },
  {
   "cell_type": "markdown",
   "metadata": {},
   "source": [
    "The code defines a function called comm_english that determines whether a given string is in English or not. It checks each character in the string and counts the number of non-ASCII characters. If the count exceeds 3, the function considers the string as non-English and returns False; otherwise, it considers the string as English and returns True. The code then applies this function to two sample app names and prints the results, indicating whether each app name is in English or not."
   ]
  },
  {
   "cell_type": "markdown",
   "metadata": {},
   "source": [
    "# Isolating the Free Apps"
   ]
  },
  {
   "cell_type": "markdown",
   "metadata": {},
   "source": [
    "Now, we are ready to proceed with the final step of the data cleaning process, which involves isolating only the free apps from the datasets. This step is essential because we are specifically interested in analyzing free apps, as our revenue model relies on in-app ads. With the data now cleaned and prepared, we can move on to the analysis phase in the upcoming lessons."
   ]
  },
  {
   "cell_type": "code",
   "execution_count": 13,
   "metadata": {},
   "outputs": [
    {
     "name": "stdout",
     "output_type": "stream",
     "text": [
      "['Photo Editor & Candy Camera & Grid & ScrapBook', 'ART_AND_DESIGN', '4.1', '159', '19M', '10,000+', 'Free', '0', 'Everyone', 'Art & Design', 'January 7, 2018', '1.0.0', '4.0.3 and up']\n",
      "\n",
      "\n",
      "['Coloring book moana', 'ART_AND_DESIGN', '3.9', '967', '14M', '500,000+', 'Free', '0', 'Everyone', 'Art & Design;Pretend Play', 'January 15, 2018', '2.0.0', '4.0.3 and up']\n",
      "\n",
      "\n",
      "['U Launcher Lite – FREE Live Cool Themes, Hide Apps', 'ART_AND_DESIGN', '4.7', '87510', '8.7M', '5,000,000+', 'Free', '0', 'Everyone', 'Art & Design', 'August 1, 2018', '1.2.4', '4.0.3 and up']\n",
      "\n",
      "\n",
      "Number of rows: 10795\n",
      "Number of columns: 13\n",
      "['id', 'track_name', 'size_bytes', 'currency', 'price', 'rating_count_tot', 'rating_count_ver', 'user_rating', 'user_rating_ver', 'ver', 'cont_rating', 'prime_genre', 'sup_devices.num', 'ipadSc_urls.num', 'lang.num', 'vpp_lic']\n",
      "\n",
      "\n",
      "['284882215', 'Facebook', '389879808', 'USD', '0.0', '2974676', '212', '3.5', '3.5', '95.0', '4+', 'Social Networking', '37', '1', '29', '1']\n",
      "\n",
      "\n",
      "['389801252', 'Instagram', '113954816', 'USD', '0.0', '2161558', '1289', '4.5', '4.0', '10.23', '12+', 'Photo & Video', '37', '0', '29', '1']\n",
      "\n",
      "\n",
      "Number of rows: 6184\n",
      "Number of columns: 16\n"
     ]
    }
   ],
   "source": [
    "android_english = []\n",
    "ios_english = []\n",
    "\n",
    "# Filtering non-English apps from the android dataset\n",
    "for app in android:\n",
    "    name = app[0]\n",
    "    if comm_english(name):  # Check if app name is in English\n",
    "        android_english.append(app)  # Add app to the android_english list if it's in English\n",
    "\n",
    "# Filtering non-English apps from the ios dataset       \n",
    "for app in ios:\n",
    "    name = app[1]\n",
    "    if comm_english(name):  # Check if app name is in English\n",
    "        ios_english.append(app)  # Add app to the ios_english list if it's in English\n",
    "\n",
    "explore_data(android_english, 0, 3, True)  # Explore a sample of the filtered android_english dataset\n",
    "explore_data(ios_english, 0, 3, True)  # Explore a sample of the filtered ios_english dataset\n"
   ]
  },
  {
   "cell_type": "markdown",
   "metadata": {},
   "source": [
    "This code is filtering out non-English apps from two datasets: android and ios. It creates two new lists, android_english and ios_english, to store only the apps that are in English. The filtering is done by iterating through each app in the respective dataset and checking if its name is classified as English using the comm_english() function. By filtering out non-English apps, we ensure that we focus only on apps designed for English-speaking audiences. The explore_data() function is then used to examine a sample of the filtered datasets to verify the filtering process. This step is important because we want to ensure that our analysis is based on relevant data for our target audience."
   ]
  },
  {
   "cell_type": "markdown",
   "metadata": {},
   "source": [
    "# Most Common Apps by Genre"
   ]
  },
  {
   "cell_type": "markdown",
   "metadata": {},
   "source": [
    "# Part One"
   ]
  },
  {
   "cell_type": "markdown",
   "metadata": {},
   "source": [
    "This is data cleaning procedures, ----> including the removal of inaccurate data, duplicate app entries, and non-English apps. --> Subsequently, we delved into data analysis to determine the types of apps that are more likely to attract users and generate revenue. --> A validation strategy was outlined, involving three sequential steps: building a basic Android version of the app and releasing it on Google Play, evaluating user response, and further developing the app if it exhibits promise. ---> Finally, if the app remains profitable over a period of six months, an iOS version is developed and added to the App Store. \n",
    "* The objective is to identify app profiles that can succeed in both the Google Play and App Store markets. To initiate the analysis, frequency tables were constructed to ascertain the most common app genres in each market. This lesson establishes a solid groundwork for informed decision-making in app development and the identification of potential successful app profiles."
   ]
  },
  {
   "cell_type": "code",
   "execution_count": 14,
   "metadata": {},
   "outputs": [
    {
     "name": "stdout",
     "output_type": "stream",
     "text": [
      "9999\n",
      "3222\n"
     ]
    }
   ],
   "source": [
    "# Initialize empty lists to store the free apps\n",
    "android_final = []\n",
    "ios_final = []\n",
    "\n",
    "# Loop through each app in the Android dataset\n",
    "for app in android_english:\n",
    "    # Extract the price value from the app\n",
    "    price = app[7]\n",
    "    \n",
    "    # Check if the price is '0', indicating it's a free app\n",
    "    if price == '0':\n",
    "        # If it's a free app, append it to the android_final list\n",
    "        android_final.append(app)\n",
    "\n",
    "# Loop through each app in the iOS dataset\n",
    "for app in ios_english:\n",
    "    # Extract the price value from the app\n",
    "    price = app[4]\n",
    "    \n",
    "    # Check if the price is '0.0', indicating it's a free app\n",
    "    if price == '0.0':\n",
    "        # If it's a free app, append it to the ios_final list\n",
    "        ios_final.append(app)\n",
    "\n",
    "# Print the number of free apps remaining in each dataset\n",
    "print(len(android_final))\n",
    "print(len(ios_final))\n"
   ]
  },
  {
   "cell_type": "markdown",
   "metadata": {},
   "source": [
    "In the given code, we start by creating two empty lists: called android_final and ios_final.\n",
    "These lists are meant to store the free apps from the Android and iOS datasets, respectively.\n",
    "* Then, the code goes through each app in the Android dataset and checks if the app's price is '0', which means it is free. * If the price is indeed '0', the app is added to the android_final list. Similarly, \n",
    "* the code does the same for each app in the iOS dataset, checking if the price is '0.0'.\n",
    "* If it is, the app is added to the ios_final list. Lastly, the code displays the number of free apps that remain in each dataset by printing the length of the android_final and ios_final lists."
   ]
  },
  {
   "cell_type": "markdown",
   "metadata": {},
   "source": [
    "# Part Two\n"
   ]
  },
  {
   "cell_type": "markdown",
   "metadata": {},
   "source": [
    "Frequency tables are a useful tool for analyzing data and finding patterns. In this lesson, we focus on generating and analyzing frequency tables to determine the most common genres in different app markets. We create functions to calculate the frequencies and percentages of genres, and another function to sort and display the genres in descending order. To overcome limitations with dictionaries, we convert them into a list of tuples. Additionally, we use a helper function called display_table() to print the genres and their frequencies in a clear format. By examining these frequency tables, we can gain insights into the popularity of different app genres in each market."
   ]
  },
  {
   "cell_type": "code",
   "execution_count": 15,
   "metadata": {},
   "outputs": [],
   "source": [
    "def freq_table(dataset, index):\n",
    "    table = {}  # Initialize an empty dictionary to store value counts\n",
    "    total = 0  # Initialize a variable to keep track of the total number of rows\n",
    "    \n",
    "    # Iterate over each row in the dataset\n",
    "    for row in dataset:\n",
    "        total += 1  # Increment the total count for each row\n",
    "        value = row[index]  # Get the value at the given index\n",
    "        \n",
    "        # Check if the value already exists as a key in the dictionary\n",
    "        if value in table:\n",
    "            table[value] += 1  # Increment the count if the value exists\n",
    "        else:\n",
    "            table[value] = 1  # Add the value as a new key and set its count to 1\n",
    "    \n",
    "    table_percentages = {}  # Initialize an empty dictionary to store percentages\n",
    "    \n",
    "    # Calculate the percentage of each value in the table\n",
    "    for key in table:\n",
    "        percentage = (table[key] / total) * 100  # Calculate the percentage\n",
    "        table_percentages[key] = percentage  # Store the percentage with the corresponding key\n",
    "    \n",
    "    return table_percentages  # Return the dictionary of value frequencies as percentages\n",
    "\n",
    "\n",
    "def display_table(dataset, index):\n",
    "    table = freq_table(dataset, index)  # Get the frequency table as a dictionary\n",
    "    table_display = []  # Initialize an empty list to store the formatted table\n",
    "    \n",
    "    # Iterate over each key-value pair in the table dictionary\n",
    "    for key in table:\n",
    "        key_val_as_tuple = (table[key], key)  # Create a tuple with count and value\n",
    "        table_display.append(key_val_as_tuple)  # Append the tuple to the table_display list\n",
    "        \n",
    "    table_sorted = sorted(table_display, reverse=True)  # Sort the table_display list in descending order\n",
    "    \n",
    "    # Iterate over each entry in the sorted table_display list\n",
    "    for entry in table_sorted:\n",
    "        print(entry[1], ':', entry[0])  # Print the value and count of each entry\n",
    "\n"
   ]
  },
  {
   "cell_type": "markdown",
   "metadata": {},
   "source": [
    "The given code consists of two functions. The first function, freq_table, creates a frequency table from a dataset. This function takes two inputs: the dataset and the index.\n",
    "\n",
    "→ Initialize an empty dictionary called table to store the counts of each value.\n",
    "→ Initialize a variable called total to keep track of the total number of rows in the dataset.\n",
    "\n",
    "→ Iterate over each row in the dataset.\n",
    "→ Increase the counter total by 1 for each row to keep track of the total number of rows.\n",
    "→ Check the value at the specific index position.\n",
    "\n",
    "→ If the value already exists in the table dictionary:\n",
    "→ Increase the count for that value by 1. Another occurrence of that value has been found in the dataset.\n",
    "\n",
    "→ If the value does not exist in the table dictionary:\n",
    "→ Add the value as a new key with an initial count of 1.\n",
    "\n",
    "→ Calculate the percentages of each value in the table.\n",
    "→ Create an empty dictionary called table_percentages to store the percentages.\n",
    "→ For each key (value) in the table dictionary:\n",
    "→ Calculate the percentage by dividing the count of that key by the total and then multiplying by 100.\n",
    "→ Store the percentage in the table_percentages dictionary with the corresponding key.\n",
    "\n",
    "→ Finally, the freq_table function returns the table_percentages dictionary, which contains the frequencies of each value in the dataset as percentages."
   ]
  },
  {
   "cell_type": "markdown",
   "metadata": {},
   "source": [
    "# Part Three\n"
   ]
  },
  {
   "cell_type": "markdown",
   "metadata": {},
   "source": [
    "The analysis of the free English apps in the App Store dataset reveals interesting insights. It is evident that a significant majority of these apps, over half of them (58.16%), are games. Following games, entertainment apps hold the second-largest share, accounting for approximately 8% of the apps. Photo and video apps are also quite popular, representing nearly 5% of the dataset. However, educational apps have a relatively smaller presence, comprising only 3.66% of the apps, while social networking apps make up about 3.29%.\n",
    "\n",
    "The overall impression gained from this analysis is that the App Store, particularly its collection of free English apps, is heavily saturated with apps designed for entertainment purposes. Genres like games, entertainment, photo and video, social networking, sports, and music dominate the market. On the other hand, apps serving practical purposes such as education, shopping, utilities, productivity, and lifestyle are less prevalent. It is important to note that although there is a high number of apps in the entertainment categories, it does not necessarily correlate with having the largest user base. User demand may not always align with the abundance of apps available in each genre.\n",
    "\n"
   ]
  },
  {
   "cell_type": "code",
   "execution_count": null,
   "metadata": {},
   "outputs": [],
   "source": [
    "display_table(ios_final, -5)"
   ]
  },
  {
   "cell_type": "code",
   "execution_count": 7,
   "metadata": {},
   "outputs": [
    {
     "name": "stdout",
     "output_type": "stream",
     "text": [
      "['App', 'Category', 'Rating', 'Reviews', 'Size', 'Installs', 'Type', 'Price', 'Content Rating', 'Genres', 'Last Updated', 'Current Ver', 'Android Ver']\n"
     ]
    }
   ],
   "source": [
    "print(header_android)"
   ]
  },
  {
   "cell_type": "code",
   "execution_count": 11,
   "metadata": {},
   "outputs": [
    {
     "name": "stdout",
     "output_type": "stream",
     "text": [
      "Games : 59.171800136892536\n",
      "Entertainment : 7.529089664613278\n",
      "Photo & Video : 5.133470225872689\n",
      "Education : 3.8329911019849416\n",
      "Social Networking : 3.1143052703627654\n",
      "Shopping : 2.4982888432580426\n",
      "Utilities : 2.2587268993839835\n",
      "Music : 2.1560574948665296\n",
      "Sports : 2.0533880903490758\n",
      "Health & Fitness : 1.9849418206707734\n",
      "Productivity : 1.7111567419575633\n",
      "Lifestyle : 1.4715947980835045\n",
      "News : 1.3347022587268993\n",
      "Travel : 1.1293634496919918\n",
      "Finance : 1.0951403148528405\n",
      "Weather : 0.8898015058179329\n",
      "Food & Drink : 0.8898015058179329\n",
      "Reference : 0.5133470225872689\n",
      "Business : 0.5133470225872689\n",
      "Book : 0.2737850787132101\n",
      "Medical : 0.20533880903490762\n",
      "Navigation : 0.13689253935660506\n",
      "Catalogs : 0.10266940451745381\n"
     ]
    }
   ],
   "source": [
    "# Call the display_table function with the ios_final dataset and -5 as the index\n",
    "display_table(ios_final, -5)"
   ]
  },
  {
   "cell_type": "markdown",
   "metadata": {},
   "source": [
    "Based on the frequency table generated for the \"prime_genre\" column of the App Store dataset, we can observe the following:\n",
    "\n",
    "* The most common genre is \"Games\" with a percentage of 59.17%.\n",
    "* The next most common genres are \"Entertainment\" (7.53%) and \"Photo & Video\" (5.13%).\n",
    "* Other patterns include the presence of genres like \"Education\" (3.83%), \"Social Networking\" (3.11%), and \"Shopping\" (2.50%).\n",
    "* The general impression is that the majority of apps in the App Store are designed for entertainment purposes, including games, entertainment, photo and video, and social networking. Practical app genres like education, shopping, and utilities have a smaller presence.\n",
    "* Based on this frequency table alone, it is recommended to develop an app profile focused on the gaming genre, as it is the most common genre in the App Store. However, having a large number of apps in a particular genre doesn't necessarily imply that apps of that genre have a large number of users. Further analysis is required to understand user engagement and popularity."
   ]
  },
  {
   "cell_type": "code",
   "execution_count": 16,
   "metadata": {},
   "outputs": [
    {
     "name": "stdout",
     "output_type": "stream",
     "text": [
      "FAMILY : 17.67176717671767\n",
      "GAME : 10.591059105910592\n",
      "TOOLS : 7.640764076407641\n",
      "BUSINESS : 4.45044504450445\n",
      "PRODUCTIVITY : 3.95039503950395\n",
      "SPORTS : 3.6003600360036003\n",
      "LIFESTYLE : 3.5903590359035906\n",
      "COMMUNICATION : 3.5903590359035906\n",
      "MEDICAL : 3.5403540354035403\n",
      "FINANCE : 3.49034903490349\n",
      "HEALTH_AND_FITNESS : 3.2503250325032504\n",
      "PHOTOGRAPHY : 3.1203120312031203\n",
      "PERSONALIZATION : 3.08030803080308\n",
      "SOCIAL : 2.9202920292029204\n",
      "NEWS_AND_MAGAZINES : 2.7702770277027704\n",
      "SHOPPING : 2.5702570257025705\n",
      "TRAVEL_AND_LOCAL : 2.4602460246024602\n",
      "DATING : 2.2702270227022705\n",
      "BOOKS_AND_REFERENCE : 1.9901990199019903\n",
      "VIDEO_PLAYERS : 1.7001700170017002\n",
      "EDUCATION : 1.5101510151015103\n",
      "ENTERTAINMENT : 1.4701470147014701\n",
      "MAPS_AND_NAVIGATION : 1.3001300130013\n",
      "FOOD_AND_DRINK : 1.25012501250125\n",
      "HOUSE_AND_HOME : 0.88008800880088\n",
      "LIBRARIES_AND_DEMO : 0.8400840084008401\n",
      "AUTO_AND_VEHICLES : 0.8200820082008201\n",
      "WEATHER : 0.7400740074007401\n",
      "EVENTS : 0.6300630063006301\n",
      "ART_AND_DESIGN : 0.6100610061006101\n",
      "COMICS : 0.59005900590059\n",
      "PARENTING : 0.58005800580058\n",
      "BEAUTY : 0.53005300530053\n"
     ]
    }
   ],
   "source": [
    "display_table(android_final, 1)#category"
   ]
  },
  {
   "cell_type": "markdown",
   "metadata": {},
   "source": [
    "Based on the frequency table generated for the \"Category\" column of the Google Play dataset, we can observe the following:\n",
    "\n",
    "* The most common category is \"Family\" with a percentage of 17.67%.\n",
    "* The next most common categories are \"Game\" (10.59%) and \"Tools\" (7.64%).\n",
    "* Other notable categories include \"Business\" (4.45%), \"Productivity\" (3.95%), and \"Sports\" (3.60%).\n",
    "* Some patterns include the presence of categories like \"Communication,\" \"Medical,\" \"Finance,\" and \"Health & Fitness.\"\n",
    "* Comparing the patterns with the App Store market, we see a broader range of categories in the Google Play market, including a significant focus on family and games.\n",
    "* Based on the frequency table, it is recommended to consider developing apps in popular categories such as family, games, tools, and productivity, as they have a significant presence in the Google Play market.\n",
    "* The frequency table indicates the most common app genres in terms of their frequency in the dataset, but it doesn't provide direct information about the number of users or popularity. Further analysis is required to determine which genres have the most users.\n"
   ]
  },
  {
   "cell_type": "markdown",
   "metadata": {},
   "source": [
    "# Most Popular Apps by Genre on the App Store\n"
   ]
  },
  {
   "cell_type": "markdown",
   "metadata": {},
   "source": [
    "To determine the most popular app genres and attract a large user base, we calculate the average number of installations or user ratings for each genre. By analyzing these averages, we can identify the genres with the highest number of users, helping us understand the types of apps that are in high demand. This information is valuable for developing apps that have the potential for greater success in terms of user engagement and generating revenue."
   ]
  },
  {
   "cell_type": "code",
   "execution_count": 17,
   "metadata": {},
   "outputs": [
    {
     "name": "stdout",
     "output_type": "stream",
     "text": [
      "Social Networking : 71548.34905660378\n",
      "Photo & Video : 28441.54375\n",
      "Games : 22788.6696905016\n",
      "Music : 57326.530303030304\n",
      "Reference : 74942.11111111111\n",
      "Health & Fitness : 23298.015384615384\n",
      "Weather : 52279.892857142855\n",
      "Utilities : 18684.456790123455\n",
      "Travel : 28243.8\n",
      "Shopping : 26919.690476190477\n",
      "News : 21248.023255813954\n",
      "Navigation : 86090.33333333333\n",
      "Lifestyle : 16485.764705882353\n",
      "Entertainment : 14029.830708661417\n",
      "Food & Drink : 33333.92307692308\n",
      "Sports : 23008.898550724636\n",
      "Book : 39758.5\n",
      "Finance : 31467.944444444445\n",
      "Education : 7003.983050847458\n",
      "Productivity : 21028.410714285714\n",
      "Business : 7491.117647058823\n",
      "Catalogs : 4004.0\n",
      "Medical : 612.0\n",
      "Waze - GPS Navigation, Maps & Real-time Traffic : 345046\n",
      "Google Maps - Navigation & Transit : 154911\n",
      "Geocaching® : 12811\n",
      "CoPilot GPS – Car Navigation & Offline Maps : 3582\n",
      "ImmobilienScout24: Real Estate Search in Germany : 187\n",
      "Railway Route Search : 5\n",
      "Bible : 985920\n",
      "Dictionary.com Dictionary & Thesaurus : 200047\n",
      "Dictionary.com Dictionary & Thesaurus for iPad : 54175\n",
      "Google Translate : 26786\n",
      "Muslim Pro: Ramadan 2017 Prayer Times, Azan, Quran : 18418\n",
      "New Furniture Mods - Pocket Wiki & Game Tools for Minecraft PC Edition : 17588\n",
      "Merriam-Webster Dictionary : 16849\n",
      "Night Sky : 12122\n",
      "City Maps for Minecraft PE - The Best Maps for Minecraft Pocket Edition (MCPE) : 8535\n",
      "LUCKY BLOCK MOD ™ for Minecraft PC Edition - The Best Pocket Wiki & Mods Installer Tools : 4693\n",
      "GUNS MODS for Minecraft PC Edition - Mods Tools : 1497\n",
      "Guides for Pokémon GO - Pokemon GO News and Cheats : 826\n",
      "WWDC : 762\n",
      "Horror Maps for Minecraft PE - Download The Scariest Maps for Minecraft Pocket Edition (MCPE) Free : 718\n",
      "VPN Express : 14\n",
      "Real Bike Traffic Rider Virtual Reality Glasses : 8\n",
      "教えて!goo : 0\n",
      "Jishokun-Japanese English Dictionary & Translator : 0\n"
     ]
    }
   ],
   "source": [
    "# Generate a frequency table for the 'prime_genre' column\n",
    "genres_ios = freq_table(ios_final, -5)\n",
    "\n",
    "# Loop over each unique genre in the dataset\n",
    "for genre in genres_ios:\n",
    "    total = 0  # Initialize a variable to keep track of the total number of ratings for the genre\n",
    "    len_genre = 0  # Initialize a variable to count the number of apps belonging to the genre\n",
    "    \n",
    "    # Loop over each app in the dataset\n",
    "    for app in ios_final:\n",
    "        genre_app = app[-5]  # Get the genre of the current app\n",
    "        \n",
    "        # If the genre of the app matches the current genre being analyzed\n",
    "        if genre_app == genre:            \n",
    "            n_ratings = float(app[5])  # Get the number of ratings for the app and convert it to a float\n",
    "            total += n_ratings  # Add the number of ratings to the total\n",
    "            len_genre += 1  # Increment the count of apps belonging to the genre\n",
    "    \n",
    "    avg_n_ratings = total / len_genre  # Calculate the average number of ratings for the genre\n",
    "    print(genre, ':', avg_n_ratings)  # Print the genre and the average number of ratings\n",
    "\n",
    "\n",
    "# Print the names and number of ratings for apps in the 'Navigation' genre\n",
    "for app in ios_final:\n",
    "    if app[-5] == 'Navigation':\n",
    "        print(app[1], ':', app[5])\n",
    "\n",
    "\n",
    "# Print the names and number of ratings for apps in the 'Reference' genre\n",
    "for app in ios_final:\n",
    "    if app[-5] == 'Reference':\n",
    "        print(app[1], ':', app[5])\n",
    "\n"
   ]
  },
  {
   "cell_type": "markdown",
   "metadata": {},
   "source": [
    "The code is analyzing the frequency table generated for the 'prime_genre' column in the iOS dataset. \n",
    "* It loops over each unique genre in the dataset and calculates the average number of ratings for apps belonging to that genre. \n",
    "* The variable 'total' keeps track of the total number of ratings, and 'len_genre' counts the number of apps belonging to the genre. \n",
    "* It then calculates the average number of ratings by dividing the total number of ratings by the count of apps. The code prints the genre and the average number of ratings.\n",
    "\n",
    "* After that, it prints the names and number of ratings for apps in the 'Navigation' genre and the 'Reference' genre. \n",
    "* It iterates over each app in the iOS dataset and checks if the genre of the app matches the genre being analyzed. \n",
    "* If it matches, it prints the app's name and the number of ratings."
   ]
  },
  {
   "cell_type": "code",
   "execution_count": 14,
   "metadata": {},
   "outputs": [
    {
     "name": "stdout",
     "output_type": "stream",
     "text": [
      "1,000,000+ : 15.407313731689323\n",
      "10,000,000+ : 12.319527874380862\n",
      "100,000+ : 10.770365686584467\n",
      "10,000+ : 9.379281273053008\n",
      "1,000+ : 7.587733164717041\n",
      "5,000,000+ : 7.2926546527558225\n",
      "100+ : 6.354726525450522\n",
      "500,000+ : 5.227105069027295\n",
      "50,000+ : 4.257561386869006\n",
      "100,000,000+ : 4.099483612604068\n",
      "5,000+ : 4.0889450943197385\n",
      "10+ : 3.1510169670144377\n",
      "500+ : 2.8980925281905363\n",
      "50,000,000+ : 2.8348614184845613\n",
      "50+ : 1.7599325534829804\n",
      "500,000,000+ : 0.7587733164717041\n",
      "5+ : 0.7271577616187164\n",
      "1,000,000,000+ : 0.5796185056381074\n",
      "1+ : 0.4531562862261566\n",
      "0+ : 0.042154073137316894\n",
      "0 : 0.010538518284329224\n"
     ]
    }
   ],
   "source": [
    "# Display a table related to the Android dataset\n",
    "display_table(android_final, 5)"
   ]
  },
  {
   "cell_type": "markdown",
   "metadata": {},
   "source": [
    "# Most Popular Apps by Genre on Google Play\n"
   ]
  },
  {
   "cell_type": "markdown",
   "metadata": {},
   "source": [
    "Here we need to analyze the android dataet, \n",
    "we start by generating a frequency table that lists the number of occurrences for each unique category in the 'Category' column. Next, we iterate over each category in the dataset. For each category, we initialize two variables: 'total' to keep track of the cumulative number of installs, and 'len_category' to count the number of apps belonging to that category. Within the loop, we iterate over each app in the dataset and retrieve its category. If the category of the app matches the current category being analyzed, we extract the number of installs and clean the install numbers by removing commas and symbols. We then add the cleaned install number to the 'total' variable and increment the 'len_category' variable by 1. After processing all the apps in the category, we calculate the average number of installs by dividing the 'total' by 'len_category'. This allows us to determine the average popularity of each category based on the number of installs."
   ]
  },
  {
   "cell_type": "code",
   "execution_count": 12,
   "metadata": {},
   "outputs": [],
   "source": [
    "# Generate a frequency table for the 'Category' column\n",
    "categories_android = freq_table(android_final, 1)\n",
    "\n",
    "# Loop over each unique category in the dataset\n",
    "for category in categories_android:\n",
    "    total = 0  # Initialize a variable to keep track of the total number of installs\n",
    "    len_category = 0  # Initialize a variable to count the number of apps in each category\n",
    "    \n",
    "    # Loop over each app in the dataset\n",
    "    for app in android_final:\n",
    "        category_app = app[1]  # Get the category of the current app\n",
    "        \n",
    "        # If the category of the app matches the current category being analyzed\n",
    "        if category_app == category:            \n",
    "            n_installs = app[5]  # Get the number of installs for the app\n",
    "            \n",
    "            # Clean the install numbers by removing commas and plus signs\n",
    "            n_installs = n_installs.replace(',', '')\n",
    "            n_installs = n_installs.replace('+', '')\n",
    "            \n",
    "            total += float(n_installs)  # Add the number of installs to the total\n",
    "            len_category += 1  # Increment the count of apps in the category\n",
    "    \n",
    "    avg_n_installs = total / len_category  # Calculate the average number of installs for the category\n",
    "    print(category, ':', avg_n_installs)  # Print the category and the average number of installs\n"
   ]
  },
  {
   "cell_type": "markdown",
   "metadata": {},
   "source": [
    "The code is **analyzing the average number of installs** for different categories in the Android dataset. It does this by **generating a frequency table** for the 'Category' column and then looping through each unique category. For each category, it calculates the total number of installs and the count of apps in that category. It then calculates the <average number of installs for the category and prints the category along with its average number of installs. The code helps us understand which <categories> have the **highest number** of installs on average in the Android app market."
   ]
  },
  {
   "cell_type": "code",
   "execution_count": null,
   "metadata": {},
   "outputs": [],
   "source": []
  }
 ],
 "metadata": {
  "kernelspec": {
   "display_name": "Python 3",
   "language": "python",
   "name": "python3"
  },
  "language_info": {
   "codemirror_mode": {
    "name": "ipython",
    "version": 3
   },
   "file_extension": ".py",
   "mimetype": "text/x-python",
   "name": "python",
   "nbconvert_exporter": "python",
   "pygments_lexer": "ipython3",
   "version": "3.8.2"
  }
 },
 "nbformat": 4,
 "nbformat_minor": 2
}
